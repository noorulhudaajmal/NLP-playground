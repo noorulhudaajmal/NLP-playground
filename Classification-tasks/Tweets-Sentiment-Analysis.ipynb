{
 "cells": [
  {
   "cell_type": "markdown",
   "id": "c3a9f6a6",
   "metadata": {},
   "source": [
    "## Sentiment Analysis Classifier for Tweets\n",
    "\n",
    "In this Jupyter Notebook, we'll be building a sentiment classifier to categorize tweets as either positive or negative. We will determine sentiment based on the token's positive and negative frequencies in the tweet corpus. Our dataset consists of sample tweets obtained from NLTK."
   ]
  },
  {
   "cell_type": "markdown",
   "id": "c5f7940f",
   "metadata": {},
   "source": [
    "### Importing necessary packages and libraries"
   ]
  },
  {
   "cell_type": "code",
   "execution_count": 13,
   "id": "d046fbb1",
   "metadata": {
    "collapsed": true
   },
   "outputs": [
    {
     "name": "stderr",
     "output_type": "stream",
     "text": [
      "[nltk_data] Downloading package punkt to /home/huda/nltk_data...\n",
      "[nltk_data]   Package punkt is already up-to-date!\n",
      "[nltk_data] Downloading package stopwords to /home/huda/nltk_data...\n",
      "[nltk_data]   Unzipping corpora/stopwords.zip.\n",
      "[nltk_data] Downloading package twitter_samples to\n",
      "[nltk_data]     /home/huda/nltk_data...\n",
      "[nltk_data]   Package twitter_samples is already up-to-date!\n"
     ]
    }
   ],
   "source": [
    "import nltk\n",
    "nltk.download(\"punkt\")\n",
    "nltk.download('stopwords')\n",
    "nltk.download('twitter_samples')\n",
    "from nltk.corpus import stopwords \n",
    "from nltk.corpus import twitter_samples "
   ]
  },
  {
   "cell_type": "code",
   "execution_count": 151,
   "id": "bac7021f",
   "metadata": {},
   "outputs": [],
   "source": [
    "import numpy as np\n",
    "import pandas as pd\n",
    "import re\n",
    "import string\n",
    "from nltk.stem import PorterStemmer\n",
    "from nltk.tokenize import TweetTokenizer\n",
    "from sklearn.linear_model import LogisticRegression\n",
    "from sklearn.metrics import classification_report, confusion_matrix\n",
    "from sklearn.preprocessing import StandardScaler\n",
    "from sklearn.model_selection import train_test_split\n",
    "import matplotlib.pyplot as plt"
   ]
  },
  {
   "cell_type": "markdown",
   "id": "244b2bfa",
   "metadata": {},
   "source": [
    "## Importing Data\n",
    "\n",
    "In this section, we are importing and reformatting the Twitter data for sentiment analysis. We begin by loading positive and negative tweets from JSON files and organizing them into DataFrames."
   ]
  },
  {
   "cell_type": "code",
   "execution_count": 191,
   "id": "5a00303f",
   "metadata": {},
   "outputs": [],
   "source": [
    "positive_tweets = twitter_samples.strings('positive_tweets.json')\n",
    "negative_tweets = twitter_samples.strings('negative_tweets.json')"
   ]
  },
  {
   "cell_type": "markdown",
   "id": "12808f5f",
   "metadata": {},
   "source": [
    "### Data Reformatting"
   ]
  },
  {
   "cell_type": "markdown",
   "id": "52ee835f",
   "metadata": {},
   "source": [
    "Loading positive tweets, creates a DataFrame with columns for the tweet text and labels them as '1' for positive sentiment."
   ]
  },
  {
   "cell_type": "code",
   "execution_count": 192,
   "id": "afff3d10",
   "metadata": {
    "scrolled": true
   },
   "outputs": [
    {
     "data": {
      "text/html": [
       "<div>\n",
       "<style scoped>\n",
       "    .dataframe tbody tr th:only-of-type {\n",
       "        vertical-align: middle;\n",
       "    }\n",
       "\n",
       "    .dataframe tbody tr th {\n",
       "        vertical-align: top;\n",
       "    }\n",
       "\n",
       "    .dataframe thead th {\n",
       "        text-align: right;\n",
       "    }\n",
       "</style>\n",
       "<table border=\"1\" class=\"dataframe\">\n",
       "  <thead>\n",
       "    <tr style=\"text-align: right;\">\n",
       "      <th></th>\n",
       "      <th>tweet_text</th>\n",
       "      <th>Label</th>\n",
       "    </tr>\n",
       "  </thead>\n",
       "  <tbody>\n",
       "    <tr>\n",
       "      <th>0</th>\n",
       "      <td>#FollowFriday @France_Inte @PKuchly57 @Milipol...</td>\n",
       "      <td>1</td>\n",
       "    </tr>\n",
       "    <tr>\n",
       "      <th>1</th>\n",
       "      <td>@Lamb2ja Hey James! How odd :/ Please call our...</td>\n",
       "      <td>1</td>\n",
       "    </tr>\n",
       "  </tbody>\n",
       "</table>\n",
       "</div>"
      ],
      "text/plain": [
       "                                          tweet_text  Label\n",
       "0  #FollowFriday @France_Inte @PKuchly57 @Milipol...      1\n",
       "1  @Lamb2ja Hey James! How odd :/ Please call our...      1"
      ]
     },
     "execution_count": 192,
     "metadata": {},
     "output_type": "execute_result"
    }
   ],
   "source": [
    "positive_tweets = pd.DataFrame(data=positive_tweets, columns=['tweet_text'])\n",
    "positive_tweets['Label'] = 1\n",
    "positive_tweets.head(2)"
   ]
  },
  {
   "cell_type": "markdown",
   "id": "7b7aab0c",
   "metadata": {},
   "source": [
    "Lodaing negative tweets, creating DataFrame with tweet text and labels set to '0' for negative sentiment."
   ]
  },
  {
   "cell_type": "code",
   "execution_count": 193,
   "id": "7bbcb73b",
   "metadata": {},
   "outputs": [
    {
     "data": {
      "text/html": [
       "<div>\n",
       "<style scoped>\n",
       "    .dataframe tbody tr th:only-of-type {\n",
       "        vertical-align: middle;\n",
       "    }\n",
       "\n",
       "    .dataframe tbody tr th {\n",
       "        vertical-align: top;\n",
       "    }\n",
       "\n",
       "    .dataframe thead th {\n",
       "        text-align: right;\n",
       "    }\n",
       "</style>\n",
       "<table border=\"1\" class=\"dataframe\">\n",
       "  <thead>\n",
       "    <tr style=\"text-align: right;\">\n",
       "      <th></th>\n",
       "      <th>tweet_text</th>\n",
       "      <th>Label</th>\n",
       "    </tr>\n",
       "  </thead>\n",
       "  <tbody>\n",
       "    <tr>\n",
       "      <th>0</th>\n",
       "      <td>hopeless for tmr :(</td>\n",
       "      <td>0</td>\n",
       "    </tr>\n",
       "    <tr>\n",
       "      <th>1</th>\n",
       "      <td>Everything in the kids section of IKEA is so c...</td>\n",
       "      <td>0</td>\n",
       "    </tr>\n",
       "  </tbody>\n",
       "</table>\n",
       "</div>"
      ],
      "text/plain": [
       "                                          tweet_text  Label\n",
       "0                                hopeless for tmr :(      0\n",
       "1  Everything in the kids section of IKEA is so c...      0"
      ]
     },
     "execution_count": 193,
     "metadata": {},
     "output_type": "execute_result"
    }
   ],
   "source": [
    "negative_tweets = pd.DataFrame(data=negative_tweets, columns=['tweet_text'])\n",
    "negative_tweets['Label'] = 0\n",
    "negative_tweets.head(2)"
   ]
  },
  {
   "cell_type": "markdown",
   "id": "13dcaa49",
   "metadata": {},
   "source": [
    "Combining both positive and negative tweets into a single DataFrame for further analysis and classification."
   ]
  },
  {
   "cell_type": "code",
   "execution_count": 194,
   "id": "9123a151",
   "metadata": {},
   "outputs": [
    {
     "data": {
      "text/html": [
       "<div>\n",
       "<style scoped>\n",
       "    .dataframe tbody tr th:only-of-type {\n",
       "        vertical-align: middle;\n",
       "    }\n",
       "\n",
       "    .dataframe tbody tr th {\n",
       "        vertical-align: top;\n",
       "    }\n",
       "\n",
       "    .dataframe thead th {\n",
       "        text-align: right;\n",
       "    }\n",
       "</style>\n",
       "<table border=\"1\" class=\"dataframe\">\n",
       "  <thead>\n",
       "    <tr style=\"text-align: right;\">\n",
       "      <th></th>\n",
       "      <th>tweet_text</th>\n",
       "      <th>Label</th>\n",
       "    </tr>\n",
       "  </thead>\n",
       "  <tbody>\n",
       "    <tr>\n",
       "      <th>0</th>\n",
       "      <td>#FollowFriday @France_Inte @PKuchly57 @Milipol...</td>\n",
       "      <td>1</td>\n",
       "    </tr>\n",
       "    <tr>\n",
       "      <th>1</th>\n",
       "      <td>@Lamb2ja Hey James! How odd :/ Please call our...</td>\n",
       "      <td>1</td>\n",
       "    </tr>\n",
       "  </tbody>\n",
       "</table>\n",
       "</div>"
      ],
      "text/plain": [
       "                                          tweet_text  Label\n",
       "0  #FollowFriday @France_Inte @PKuchly57 @Milipol...      1\n",
       "1  @Lamb2ja Hey James! How odd :/ Please call our...      1"
      ]
     },
     "execution_count": 194,
     "metadata": {},
     "output_type": "execute_result"
    }
   ],
   "source": [
    "tweets = pd.concat([positive_tweets,negative_tweets], axis=0)\n",
    "tweets.head(2)"
   ]
  },
  {
   "cell_type": "markdown",
   "id": "e6a6de43",
   "metadata": {},
   "source": [
    "## TEXT PREPROCESSING\n",
    "\n",
    "#### Text Cleaning Steps\n",
    "\n",
    "1. **Stemming**:\n",
    "   - word stemming using the Porter stemming algorithm. Stemming reduces words to their root form, helping in standardizing word variations.\n",
    "\n",
    "2. **Stopwords Removal**:\n",
    "   - Removing the most common words(stopwords) from the text.\n",
    "\n",
    "3. **Tokenization**:\n",
    "   - Tokenizing using the `TweetTokenizer` class from NLTK. This tokenizer is specifically designed for tweets and  it tokenize the tweet text while preserving case, reducing repeated characters, and stripping handles (e.g., \"@username\").\n",
    "\n",
    "4. **Text Cleaning**:\n",
    "   - Performing several text cleaning operations on the tweet text:\n",
    "     - Removing \"RT \" (retweet indicator) from the beginning of the tweet.\n",
    "     - Removing stock market ticker symbols (e.g., \"$AAPL\").\n",
    "     - Removing hyperlinks (URLs) from the tweet.\n",
    "     - Removing hashtags (#) from the tweet."
   ]
  },
  {
   "cell_type": "code",
   "execution_count": 195,
   "id": "17adf736",
   "metadata": {},
   "outputs": [],
   "source": [
    "def process_tweet_text(tweet):\n",
    "    stemmer = PorterStemmer()\n",
    "    stop_words = stopwords.words('english')\n",
    "    tokenizer = TweetTokenizer(preserve_case=False, reduce_len=True, strip_handles=True)\n",
    "    \n",
    "    # removing symbols, tikers, hyoerlinks etc.\n",
    "    tweet = re.sub(r'^RT[\\s]', '', tweet)\n",
    "    tweet = re.sub(r'\\$\\w*', '', tweet)\n",
    "    tweet = re.sub(r'https?:\\/\\/.*[\\r\\n]*', '', tweet)\n",
    "    tweet = re.sub(r'#', '', tweet)\n",
    "    \n",
    "    #tokenizing\n",
    "    tokens = tokenizer.tokenize(tweet)\n",
    "    \n",
    "    tweet_clean = [stemmer.stem(word) for word in tokens if (word not in stop_words and word not in string.punctuation)]\n",
    "    \n",
    "    return tweet_clean"
   ]
  },
  {
   "cell_type": "markdown",
   "id": "a6f29ca9",
   "metadata": {},
   "source": [
    "Applying the `process_tweet_text` function to tokenize and preprocess the tweet text in the `tweets` DataFrame. The goal is to create a new column called 'tokens,' which will contain lists of individual tokens for each tweet."
   ]
  },
  {
   "cell_type": "code",
   "execution_count": 198,
   "id": "5bdfbb60",
   "metadata": {},
   "outputs": [],
   "source": [
    "tweets['tokens'] = tweets.tweet_text.apply(process_tweet_text)\n",
    "tweets.head(5)"
   ]
  },
  {
   "cell_type": "markdown",
   "id": "739fc95f",
   "metadata": {},
   "source": [
    "## BUILDING FREQUENCY TABLE\n",
    "\n",
    "Calculating the frequency of tokens in both positive and negative tweets to understand which words are more common in each sentiment category."
   ]
  },
  {
   "cell_type": "code",
   "execution_count": 200,
   "id": "8d0cd2ee",
   "metadata": {},
   "outputs": [],
   "source": [
    "freq = {}\n",
    "\n",
    "for i in tweets.itertuples():\n",
    "    _, _, label, tokens = i\n",
    "    \n",
    "    for token in tokens:\n",
    "        pair = (token, label)\n",
    "        if pair in freq:\n",
    "            freq[pair] += 1\n",
    "        else:\n",
    "            freq[pair] = 1"
   ]
  },
  {
   "cell_type": "code",
   "execution_count": 201,
   "id": "04581bcc",
   "metadata": {},
   "outputs": [
    {
     "data": {
      "text/plain": [
       "13065"
      ]
     },
     "execution_count": 201,
     "metadata": {},
     "output_type": "execute_result"
    }
   ],
   "source": [
    "len(freq)"
   ]
  },
  {
   "cell_type": "markdown",
   "id": "b7668253",
   "metadata": {},
   "source": [
    "# Visualizing some tokens w.r.t their frequencies\n",
    "\n",
    "Visualizing the frequencies of selected tokens in both positive and negative tweets. The goal is to gain insights into how these tokens are distributed across sentiment categories."
   ]
  },
  {
   "cell_type": "code",
   "execution_count": 202,
   "id": "7c24c03e",
   "metadata": {},
   "outputs": [],
   "source": [
    "keys = ['happi', 'sad', 'fine', 'good', 'bad', 'mad', 'best', ':)', ':(', '😒', '😬', '😄', '😍',\n",
    "        'song', 'idea', 'power', 'play']"
   ]
  },
  {
   "cell_type": "code",
   "execution_count": 203,
   "id": "1f3907ee",
   "metadata": {},
   "outputs": [],
   "source": [
    "data = []\n",
    "\n",
    "for word in keys:\n",
    "    pos_occur = 0\n",
    "    neg_occur = 0\n",
    "    \n",
    "    pos_pair = (word, 1)\n",
    "    neg_pair = (word,0)\n",
    "    \n",
    "    if pos_pair in freq:\n",
    "        pos_occur = freq[pos_pair]\n",
    "    \n",
    "    if neg_pair in freq:\n",
    "        neg_occur = freq[neg_pair]\n",
    "    \n",
    "    data.append((word, pos_occur, neg_occur))"
   ]
  },
  {
   "cell_type": "code",
   "execution_count": 204,
   "id": "da66255e",
   "metadata": {},
   "outputs": [
    {
     "name": "stderr",
     "output_type": "stream",
     "text": [
      "/usr/lib/python3/dist-packages/IPython/core/pylabtools.py:151: UserWarning: Glyph 128556 (\\N{GRIMACING FACE}) missing from current font.\n",
      "  fig.canvas.print_figure(bytes_io, **kw)\n"
     ]
    },
    {
     "data": {
      "image/png": "[encoded data removed]",
      "text/plain": [
       "<Figure size 864x432 with 1 Axes>"
      ]
     },
     "metadata": {
      "needs_background": "light"
     },
     "output_type": "display_data"
    }
   ],
   "source": [
    "plt.figure(figsize=(12,6))\n",
    "\n",
    "x = np.log([x[1] + 1 for x in data])  \n",
    "y = np.log([x[2] + 1 for x in data]) \n",
    "\n",
    "plt.scatter(x, y)\n",
    "\n",
    "for i in range(0, len(data)):\n",
    "    plt.annotate(data[i][0], (x[i], y[i]), fontsize=12)\n",
    "\n",
    "plt.xlabel('Log Positive Counts')\n",
    "plt.xlabel('Log Negative Counts')\n",
    "plt.show()"
   ]
  },
  {
   "cell_type": "markdown",
   "id": "20b22494",
   "metadata": {},
   "source": [
    "### Feature Extraction\n",
    "\n",
    "Extracting features from a list of tokens. The features represent the frequency of positive and negative sentiment-associated tokens in the input token list."
   ]
  },
  {
   "cell_type": "code",
   "execution_count": 236,
   "id": "502c4784",
   "metadata": {},
   "outputs": [],
   "source": [
    "def extract_features(tokens_list):\n",
    "    pos_occur = 0\n",
    "    neg_occur = 0\n",
    "    for token in tokens_list:\n",
    "        pos_pair = (token, 1)\n",
    "        neg_pair = (token,0)\n",
    "        if pos_pair in freq:\n",
    "            pos_occur += freq[pos_pair]\n",
    "\n",
    "        if neg_pair in freq:\n",
    "            neg_occur += freq[neg_pair]\n",
    "    \n",
    "    return pd.Series([pos_occur, neg_occur])"
   ]
  },
  {
   "cell_type": "markdown",
   "id": "ecef3c34",
   "metadata": {},
   "source": [
    "Applying the `extract_features` function to extract token frequency features from the 'tokens' column in the `tweets` DataFrame.\n",
    "Creating two new columns, 'pos_freq' and 'neg_freq,' to store the counts of positive and negative sentiment-associated tokens for each tweet."
   ]
  },
  {
   "cell_type": "code",
   "execution_count": 243,
   "id": "a2b0c6c1",
   "metadata": {},
   "outputs": [
    {
     "data": {
      "text/html": [
       "<div>\n",
       "<style scoped>\n",
       "    .dataframe tbody tr th:only-of-type {\n",
       "        vertical-align: middle;\n",
       "    }\n",
       "\n",
       "    .dataframe tbody tr th {\n",
       "        vertical-align: top;\n",
       "    }\n",
       "\n",
       "    .dataframe thead th {\n",
       "        text-align: right;\n",
       "    }\n",
       "</style>\n",
       "<table border=\"1\" class=\"dataframe\">\n",
       "  <thead>\n",
       "    <tr style=\"text-align: right;\">\n",
       "      <th></th>\n",
       "      <th>tweet_text</th>\n",
       "      <th>Label</th>\n",
       "      <th>tokens</th>\n",
       "      <th>pos_freq</th>\n",
       "      <th>neg_freq</th>\n",
       "    </tr>\n",
       "  </thead>\n",
       "  <tbody>\n",
       "    <tr>\n",
       "      <th>0</th>\n",
       "      <td>#FollowFriday @France_Inte @PKuchly57 @Milipol...</td>\n",
       "      <td>1</td>\n",
       "      <td>[followfriday, top, engag, member, commun, wee...</td>\n",
       "      <td>3764</td>\n",
       "      <td>72</td>\n",
       "    </tr>\n",
       "    <tr>\n",
       "      <th>1</th>\n",
       "      <td>@Lamb2ja Hey James! How odd :/ Please call our...</td>\n",
       "      <td>1</td>\n",
       "      <td>[hey, jame, odd, :/, pleas, call, contact, cen...</td>\n",
       "      <td>4464</td>\n",
       "      <td>517</td>\n",
       "    </tr>\n",
       "    <tr>\n",
       "      <th>2</th>\n",
       "      <td>@DespiteOfficial we had a listen last night :)...</td>\n",
       "      <td>1</td>\n",
       "      <td>[listen, last, night, :), bleed, amaz, track, ...</td>\n",
       "      <td>3759</td>\n",
       "      <td>160</td>\n",
       "    </tr>\n",
       "    <tr>\n",
       "      <th>3</th>\n",
       "      <td>@97sides CONGRATS :)</td>\n",
       "      <td>1</td>\n",
       "      <td>[congrat, :)]</td>\n",
       "      <td>3589</td>\n",
       "      <td>4</td>\n",
       "    </tr>\n",
       "    <tr>\n",
       "      <th>4</th>\n",
       "      <td>yeaaaah yippppy!!!  my accnt verified rqst has...</td>\n",
       "      <td>1</td>\n",
       "      <td>[yeaaah, yipppi, accnt, verifi, rqst, succeed,...</td>\n",
       "      <td>3915</td>\n",
       "      <td>280</td>\n",
       "    </tr>\n",
       "  </tbody>\n",
       "</table>\n",
       "</div>"
      ],
      "text/plain": [
       "                                          tweet_text  Label  \\\n",
       "0  #FollowFriday @France_Inte @PKuchly57 @Milipol...      1   \n",
       "1  @Lamb2ja Hey James! How odd :/ Please call our...      1   \n",
       "2  @DespiteOfficial we had a listen last night :)...      1   \n",
       "3                               @97sides CONGRATS :)      1   \n",
       "4  yeaaaah yippppy!!!  my accnt verified rqst has...      1   \n",
       "\n",
       "                                              tokens  pos_freq  neg_freq  \n",
       "0  [followfriday, top, engag, member, commun, wee...      3764        72  \n",
       "1  [hey, jame, odd, :/, pleas, call, contact, cen...      4464       517  \n",
       "2  [listen, last, night, :), bleed, amaz, track, ...      3759       160  \n",
       "3                                      [congrat, :)]      3589         4  \n",
       "4  [yeaaah, yipppi, accnt, verifi, rqst, succeed,...      3915       280  "
      ]
     },
     "execution_count": 243,
     "metadata": {},
     "output_type": "execute_result"
    }
   ],
   "source": [
    "tweets[['pos_freq','neg_freq']] = tweets.tokens.apply(extract_features)\n",
    "tweets.head()"
   ]
  },
  {
   "cell_type": "markdown",
   "id": "2b0ec1f0",
   "metadata": {},
   "source": [
    "### Train Test Split"
   ]
  },
  {
   "cell_type": "code",
   "execution_count": 244,
   "id": "52175596",
   "metadata": {},
   "outputs": [],
   "source": [
    "X = tweets[['pos_freq', 'neg_freq']]\n",
    "y = tweets['Label']"
   ]
  },
  {
   "cell_type": "code",
   "execution_count": 245,
   "id": "760af5c0",
   "metadata": {},
   "outputs": [],
   "source": [
    "X_train, X_test, y_train, y_test = train_test_split(X, y, train_size=0.75, random_state=101, shuffle=True)"
   ]
  },
  {
   "cell_type": "markdown",
   "id": "467fba7f",
   "metadata": {},
   "source": [
    "# Data Standardizing\n",
    "\n",
    "Standardizing the feature data using the `StandardScaler`. Standardization ensures that each feature has a mean of 0 and a standard deviation of 1 in the training da"
   ]
  },
  {
   "cell_type": "code",
   "execution_count": 246,
   "id": "c047842f",
   "metadata": {},
   "outputs": [],
   "source": [
    "scaler = StandardScaler()\n",
    "X_train = scaler.fit_transform(X_train)\n",
    "X_test = scaler.transform(X_test)"
   ]
  },
  {
   "cell_type": "markdown",
   "id": "fed1afa7",
   "metadata": {},
   "source": [
    "# Logistic Regression Classifier"
   ]
  },
  {
   "cell_type": "code",
   "execution_count": 247,
   "id": "4ca832ea",
   "metadata": {},
   "outputs": [
    {
     "data": {
      "text/html": [
       "<style>#sk-container-id-4 {color: black;background-color: white;}#sk-container-id-4 pre{padding: 0;}#sk-container-id-4 div.sk-toggleable {background-color: white;}#sk-container-id-4 label.sk-toggleable__label {cursor: pointer;display: block;width: 100%;margin-bottom: 0;padding: 0.3em;box-sizing: border-box;text-align: center;}#sk-container-id-4 label.sk-toggleable__label-arrow:before {content: \"▸\";float: left;margin-right: 0.25em;color: #696969;}#sk-container-id-4 label.sk-toggleable__label-arrow:hover:before {color: black;}#sk-container-id-4 div.sk-estimator:hover label.sk-toggleable__label-arrow:before {color: black;}#sk-container-id-4 div.sk-toggleable__content {max-height: 0;max-width: 0;overflow: hidden;text-align: left;background-color: #f0f8ff;}#sk-container-id-4 div.sk-toggleable__content pre {margin: 0.2em;color: black;border-radius: 0.25em;background-color: #f0f8ff;}#sk-container-id-4 input.sk-toggleable__control:checked~div.sk-toggleable__content {max-height: 200px;max-width: 100%;overflow: auto;}#sk-container-id-4 input.sk-toggleable__control:checked~label.sk-toggleable__label-arrow:before {content: \"▾\";}#sk-container-id-4 div.sk-estimator input.sk-toggleable__control:checked~label.sk-toggleable__label {background-color: #d4ebff;}#sk-container-id-4 div.sk-label input.sk-toggleable__control:checked~label.sk-toggleable__label {background-color: #d4ebff;}#sk-container-id-4 input.sk-hidden--visually {border: 0;clip: rect(1px 1px 1px 1px);clip: rect(1px, 1px, 1px, 1px);height: 1px;margin: -1px;overflow: hidden;padding: 0;position: absolute;width: 1px;}#sk-container-id-4 div.sk-estimator {font-family: monospace;background-color: #f0f8ff;border: 1px dotted black;border-radius: 0.25em;box-sizing: border-box;margin-bottom: 0.5em;}#sk-container-id-4 div.sk-estimator:hover {background-color: #d4ebff;}#sk-container-id-4 div.sk-parallel-item::after {content: \"\";width: 100%;border-bottom: 1px solid gray;flex-grow: 1;}#sk-container-id-4 div.sk-label:hover label.sk-toggleable__label {background-color: #d4ebff;}#sk-container-id-4 div.sk-serial::before {content: \"\";position: absolute;border-left: 1px solid gray;box-sizing: border-box;top: 0;bottom: 0;left: 50%;z-index: 0;}#sk-container-id-4 div.sk-serial {display: flex;flex-direction: column;align-items: center;background-color: white;padding-right: 0.2em;padding-left: 0.2em;position: relative;}#sk-container-id-4 div.sk-item {position: relative;z-index: 1;}#sk-container-id-4 div.sk-parallel {display: flex;align-items: stretch;justify-content: center;background-color: white;position: relative;}#sk-container-id-4 div.sk-item::before, #sk-container-id-4 div.sk-parallel-item::before {content: \"\";position: absolute;border-left: 1px solid gray;box-sizing: border-box;top: 0;bottom: 0;left: 50%;z-index: -1;}#sk-container-id-4 div.sk-parallel-item {display: flex;flex-direction: column;z-index: 1;position: relative;background-color: white;}#sk-container-id-4 div.sk-parallel-item:first-child::after {align-self: flex-end;width: 50%;}#sk-container-id-4 div.sk-parallel-item:last-child::after {align-self: flex-start;width: 50%;}#sk-container-id-4 div.sk-parallel-item:only-child::after {width: 0;}#sk-container-id-4 div.sk-dashed-wrapped {border: 1px dashed gray;margin: 0 0.4em 0.5em 0.4em;box-sizing: border-box;padding-bottom: 0.4em;background-color: white;}#sk-container-id-4 div.sk-label label {font-family: monospace;font-weight: bold;display: inline-block;line-height: 1.2em;}#sk-container-id-4 div.sk-label-container {text-align: center;}#sk-container-id-4 div.sk-container {/* jupyter's `normalize.less` sets `[hidden] { display: none; }` but bootstrap.min.css set `[hidden] { display: none !important; }` so we also need the `!important` here to be able to override the default hidden behavior on the sphinx rendered scikit-learn.org. See: https://github.com/scikit-learn/scikit-learn/issues/21755 */display: inline-block !important;position: relative;}#sk-container-id-4 div.sk-text-repr-fallback {display: none;}</style><div id=\"sk-container-id-4\" class=\"sk-top-container\"><div class=\"sk-text-repr-fallback\"><pre>LogisticRegression()</pre><b>In a Jupyter environment, please rerun this cell to show the HTML representation or trust the notebook. <br />On GitHub, the HTML representation is unable to render, please try loading this page with nbviewer.org.</b></div><div class=\"sk-container\" hidden><div class=\"sk-item\"><div class=\"sk-estimator sk-toggleable\"><input class=\"sk-toggleable__control sk-hidden--visually\" id=\"sk-estimator-id-4\" type=\"checkbox\" checked><label for=\"sk-estimator-id-4\" class=\"sk-toggleable__label sk-toggleable__label-arrow\">LogisticRegression</label><div class=\"sk-toggleable__content\"><pre>LogisticRegression()</pre></div></div></div></div></div>"
      ],
      "text/plain": [
       "LogisticRegression()"
      ]
     },
     "execution_count": 247,
     "metadata": {},
     "output_type": "execute_result"
    }
   ],
   "source": [
    "clf = LogisticRegression()\n",
    "clf.fit(X_train, y_train)"
   ]
  },
  {
   "cell_type": "code",
   "execution_count": 248,
   "id": "08fdbe8e",
   "metadata": {},
   "outputs": [],
   "source": [
    "preds = clf.predict(X_test)"
   ]
  },
  {
   "cell_type": "markdown",
   "id": "c665db67",
   "metadata": {},
   "source": [
    "Printing a classification report to evaluate the classifier's performance on the test set. The classification report includes metrics such as precision, recall, F1-score, and accuracy for both positive (1) and negative (0) sentiment labels."
   ]
  },
  {
   "cell_type": "code",
   "execution_count": 249,
   "id": "3eb7a60c",
   "metadata": {},
   "outputs": [
    {
     "name": "stdout",
     "output_type": "stream",
     "text": [
      "              precision    recall  f1-score   support\n",
      "\n",
      "           0       1.00      0.98      0.99      1253\n",
      "           1       0.98      1.00      0.99      1247\n",
      "\n",
      "    accuracy                           0.99      2500\n",
      "   macro avg       0.99      0.99      0.99      2500\n",
      "weighted avg       0.99      0.99      0.99      2500\n",
      "\n"
     ]
    }
   ],
   "source": [
    "print(classification_report(y_test, preds))"
   ]
  },
  {
   "cell_type": "markdown",
   "id": "a1800d32",
   "metadata": {},
   "source": [
    "### Predictions\n",
    "\n",
    "Defining a function called `predict_tweet` that takes a tweet as input and predicts its sentiment (positive or negative) using a pre-trained logistic regression classifier."
   ]
  },
  {
   "cell_type": "code",
   "execution_count": 266,
   "id": "35ee4dcb",
   "metadata": {},
   "outputs": [],
   "source": [
    "def predict_tweet(tweet, freq, clf, std_scaler):\n",
    "    tokenized_tweet = process_tweet_text(tweet)\n",
    "    features = extract_features(tokenized_tweet)\n",
    "    features = pd.DataFrame(features).T\n",
    "    features.columns = ['pos_freq','neg_freq']\n",
    "    scaled_features = std_scaler.transform(features)\n",
    "    sentiment = clf.predict(scaled_features)[0]\n",
    "    if sentiment == 1:\n",
    "        return 'Positive Sentiment'\n",
    "    return 'Negative Sentiment'"
   ]
  },
  {
   "cell_type": "markdown",
   "id": "783b2592",
   "metadata": {},
   "source": [
    "#### Examples"
   ]
  },
  {
   "cell_type": "code",
   "execution_count": 267,
   "id": "120a71fb",
   "metadata": {
    "scrolled": true
   },
   "outputs": [
    {
     "data": {
      "text/plain": [
       "'Positive Sentiment'"
      ]
     },
     "execution_count": 267,
     "metadata": {},
     "output_type": "execute_result"
    }
   ],
   "source": [
    "predict_tweet(\"i am fine\", freq, clf, scaler)"
   ]
  },
  {
   "cell_type": "code",
   "execution_count": 270,
   "id": "99f9b03b",
   "metadata": {},
   "outputs": [
    {
     "data": {
      "text/plain": [
       "'Negative Sentiment'"
      ]
     },
     "execution_count": 270,
     "metadata": {},
     "output_type": "execute_result"
    }
   ],
   "source": [
    "predict_tweet(\"Oh, because using Comic Sans in your PowerPoint presentation really says 'I'm a design genius.' 🙄 #DesignGoals #GraphicDesignMastermind\", freq, clf, scaler)"
   ]
  },
  {
   "cell_type": "markdown",
   "id": "3fef79aa",
   "metadata": {},
   "source": [
    "# VADER SENTIMENT ANALYSIS\n",
    "\n",
    "In this section, we use the VADER sentiment analysis tool from NLTK to analyze the sentiment of tweets and evaluate the performance of the sentiment analysis model."
   ]
  },
  {
   "cell_type": "code",
   "execution_count": 272,
   "id": "258dfc1a",
   "metadata": {},
   "outputs": [
    {
     "name": "stderr",
     "output_type": "stream",
     "text": [
      "[nltk_data] Downloading package vader_lexicon to\n",
      "[nltk_data]     /home/huda/nltk_data...\n",
      "[nltk_data]   Package vader_lexicon is already up-to-date!\n"
     ]
    },
    {
     "data": {
      "text/plain": [
       "True"
      ]
     },
     "execution_count": 272,
     "metadata": {},
     "output_type": "execute_result"
    }
   ],
   "source": [
    "nltk.download('vader_lexicon')"
   ]
  },
  {
   "cell_type": "code",
   "execution_count": 273,
   "id": "107a600b",
   "metadata": {},
   "outputs": [],
   "source": [
    "from nltk.sentiment.vader import SentimentIntensityAnalyzer"
   ]
  },
  {
   "cell_type": "code",
   "execution_count": 274,
   "id": "fc096397",
   "metadata": {},
   "outputs": [],
   "source": [
    "sid = SentimentIntensityAnalyzer()"
   ]
  },
  {
   "cell_type": "code",
   "execution_count": 276,
   "id": "54cd9294",
   "metadata": {},
   "outputs": [
    {
     "data": {
      "text/html": [
       "<div>\n",
       "<style scoped>\n",
       "    .dataframe tbody tr th:only-of-type {\n",
       "        vertical-align: middle;\n",
       "    }\n",
       "\n",
       "    .dataframe tbody tr th {\n",
       "        vertical-align: top;\n",
       "    }\n",
       "\n",
       "    .dataframe thead th {\n",
       "        text-align: right;\n",
       "    }\n",
       "</style>\n",
       "<table border=\"1\" class=\"dataframe\">\n",
       "  <thead>\n",
       "    <tr style=\"text-align: right;\">\n",
       "      <th></th>\n",
       "      <th>tweet_text</th>\n",
       "      <th>Label</th>\n",
       "      <th>tokens</th>\n",
       "      <th>pos_freq</th>\n",
       "      <th>neg_freq</th>\n",
       "      <th>sentiment_scores</th>\n",
       "    </tr>\n",
       "  </thead>\n",
       "  <tbody>\n",
       "    <tr>\n",
       "      <th>0</th>\n",
       "      <td>#FollowFriday @France_Inte @PKuchly57 @Milipol...</td>\n",
       "      <td>1</td>\n",
       "      <td>[followfriday, top, engag, member, commun, wee...</td>\n",
       "      <td>3764</td>\n",
       "      <td>72</td>\n",
       "      <td>0.7579</td>\n",
       "    </tr>\n",
       "    <tr>\n",
       "      <th>1</th>\n",
       "      <td>@Lamb2ja Hey James! How odd :/ Please call our...</td>\n",
       "      <td>1</td>\n",
       "      <td>[hey, jame, odd, :/, pleas, call, contact, cen...</td>\n",
       "      <td>4464</td>\n",
       "      <td>517</td>\n",
       "      <td>0.6229</td>\n",
       "    </tr>\n",
       "  </tbody>\n",
       "</table>\n",
       "</div>"
      ],
      "text/plain": [
       "                                          tweet_text  Label  \\\n",
       "0  #FollowFriday @France_Inte @PKuchly57 @Milipol...      1   \n",
       "1  @Lamb2ja Hey James! How odd :/ Please call our...      1   \n",
       "\n",
       "                                              tokens  pos_freq  neg_freq  \\\n",
       "0  [followfriday, top, engag, member, commun, wee...      3764        72   \n",
       "1  [hey, jame, odd, :/, pleas, call, contact, cen...      4464       517   \n",
       "\n",
       "   sentiment_scores  \n",
       "0            0.7579  \n",
       "1            0.6229  "
      ]
     },
     "execution_count": 276,
     "metadata": {},
     "output_type": "execute_result"
    }
   ],
   "source": [
    "tweets['sentiment_scores'] = tweets.tweet_text.apply(lambda x:sid.polarity_scores(x)['compound'])\n",
    "tweets.head(2)"
   ]
  },
  {
   "cell_type": "code",
   "execution_count": 277,
   "id": "fbcaff44",
   "metadata": {},
   "outputs": [],
   "source": [
    "tweets['vader_label'] = tweets.sentiment_scores.apply(lambda x: 1 if x>=0 else 0)"
   ]
  },
  {
   "cell_type": "code",
   "execution_count": 279,
   "id": "c6e433d5",
   "metadata": {},
   "outputs": [
    {
     "name": "stdout",
     "output_type": "stream",
     "text": [
      "              precision    recall  f1-score   support\n",
      "\n",
      "           0       0.95      0.71      0.81      5000\n",
      "           1       0.77      0.96      0.85      5000\n",
      "\n",
      "    accuracy                           0.83     10000\n",
      "   macro avg       0.86      0.83      0.83     10000\n",
      "weighted avg       0.86      0.83      0.83     10000\n",
      "\n"
     ]
    }
   ],
   "source": [
    "print(classification_report(tweets.Label, tweets.vader_label))"
   ]
  },
  {
   "cell_type": "markdown",
   "id": "e13dcf78",
   "metadata": {},
   "source": [
    "# Conclusion\n",
    "\n",
    "In this sentiment analysis notebook, we evaluated the performance of two sentiment classification approaches: one using a custom-built logistic regression model and the other using the VADER sentiment analysis tool.\n",
    "\n",
    "- The custom-built logistic regression model exhibits good performance with high precision, recall, and F1-scores for both positive and negative sentiment. It achieves an accuracy of 99%.\n",
    "\n",
    "- The VADER sentiment analysis tool performs reasonably well, particularly in identifying positive sentiment, where it achieves a high recall. However, it exhibits lower precision and recall for negative sentiment, resulting in an accuracy of 83%. "
   ]
  },
  {
   "cell_type": "markdown",
   "id": "fcd9a69c",
   "metadata": {},
   "source": [
    "`THE END`"
   ]
  }
 ],
 "metadata": {
  "kernelspec": {
   "display_name": "Python 3 (ipykernel)",
   "language": "python",
   "name": "python3"
  },
  "language_info": {
   "codemirror_mode": {
    "name": "ipython",
    "version": 3
   },
   "file_extension": ".py",
   "mimetype": "text/x-python",
   "name": "python",
   "nbconvert_exporter": "python",
   "pygments_lexer": "ipython3",
   "version": "3.10.12"
  }
 },
 "nbformat": 4,
 "nbformat_minor": 5
}
