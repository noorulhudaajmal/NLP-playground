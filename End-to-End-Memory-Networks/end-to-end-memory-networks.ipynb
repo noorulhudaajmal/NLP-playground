{
 "cells": [
  {
   "cell_type": "markdown",
   "id": "bc09c870",
   "metadata": {},
   "source": [
    "# Importing necessary libraries"
   ]
  },
  {
   "cell_type": "code",
   "execution_count": 80,
   "id": "f5ba4964",
   "metadata": {},
   "outputs": [
    {
     "name": "stderr",
     "output_type": "stream",
     "text": [
      "[nltk_data] Downloading package punkt to /home/huda/nltk_data...\n",
      "[nltk_data]   Package punkt is already up-to-date!\n"
     ]
    }
   ],
   "source": [
    "import numpy as np\n",
    "import matplotlib.pyplot as plt\n",
    "import pickle\n",
    "\n",
    "import nltk\n",
    "nltk.download('punkt')\n",
    "from nltk.tokenize import word_tokenize\n",
    "\n",
    "from keras.preprocessing.sequence import pad_sequences\n",
    "from keras.preprocessing.text import Tokenizer\n",
    "\n",
    "from keras.models import Sequential, Model, load_model\n",
    "from keras.layers import Embedding, Input, Activation, Permute, LSTM, Dropout, add, dot, concatenate, Dense\n",
    "\n",
    "from sklearn.metrics import classification_report\n",
    "\n",
    "%matplotlib inline"
   ]
  },
  {
   "cell_type": "markdown",
   "id": "28524ac0",
   "metadata": {},
   "source": [
    "# Loading Data"
   ]
  },
  {
   "cell_type": "code",
   "execution_count": 2,
   "id": "6533c761",
   "metadata": {},
   "outputs": [],
   "source": [
    "# readind in data from text files\n",
    "with open(\"tasks_1-20_v1-2/en-10k/qa2_two-supporting-facts_train.txt\", 'rb') as f:\n",
    "    train_data = f.read()\n",
    "    \n",
    "with open(\"tasks_1-20_v1-2/en-10k/qa2_two-supporting-facts_test.txt\", 'rb') as f:\n",
    "    test_data = f.read()"
   ]
  },
  {
   "cell_type": "code",
   "execution_count": 3,
   "id": "5125eb30",
   "metadata": {},
   "outputs": [],
   "source": [
    "# function to flatten story-lines from individual lists to one list per story \n",
    "flatten = lambda text_list: [j for i in text_list for j in i]"
   ]
  },
  {
   "cell_type": "code",
   "execution_count": 4,
   "id": "f29336c9",
   "metadata": {},
   "outputs": [],
   "source": [
    "def data_parser(data):\n",
    "    \"\"\"\n",
    "        Takes in data as input of type bytes, decodes it and\n",
    "        split into tuple of form (story, question, answer)\n",
    "    \"\"\"\n",
    "    \n",
    "    # byte decoding\n",
    "    data = test_data.decode('utf-8').split(\"\\n\")\n",
    "    \n",
    "    # list to store data in form of tuples\n",
    "    extracted_data = []\n",
    "    \n",
    "    # SINGLE-STORY-STORAGE:list to store story lines of one story at a time\n",
    "    last_visited_story = []\n",
    "    \n",
    "    # visiting every line in data one at a time\n",
    "    for line in data:\n",
    "        \n",
    "        # continuing only if line has a valid data in it\n",
    "        if line != \"\":\n",
    "            # each line is splitted into line#( per story) and story-line\n",
    "            story_line_num, story_line = line.split(' ',1)\n",
    "            story_line_num = int(story_line_num)\n",
    "\n",
    "            # start of new story\n",
    "            if story_line_num == 1:\n",
    "                \n",
    "                # nulling the story list for storing upcoming story\n",
    "                last_visited_story = []\n",
    "\n",
    "            # the presence of query(/question)-answer pair\n",
    "            if '\\t' in story_line:\n",
    "                \n",
    "                #splitting query-answer pair\n",
    "                query, answer, supported_fact_id = story_line.split(\"\\t\")\n",
    "\n",
    "                # gathering the list of stories into single list from SINGLE-STORY-STORAGE\n",
    "                story_lines = [i for i in last_visited_story if i!=None]\n",
    "                \n",
    "                # flattening them into single list of story with individual tokens\n",
    "                story_lines = flatten(story_lines)\n",
    "                \n",
    "                # tokenizing query and appending the tuple to data\n",
    "                extracted_data.append((story_lines, word_tokenize(query), answer))\n",
    "            \n",
    "            # story being continued\n",
    "            else:\n",
    "                # tokenizing the story-line and appending to current story in SINGLE-STORY-STORAGE\n",
    "                last_visited_story.append(word_tokenize(story_line))\n",
    "    \n",
    "    # data ready to analyze\n",
    "    return extracted_data"
   ]
  },
  {
   "cell_type": "code",
   "execution_count": 5,
   "id": "40c13993",
   "metadata": {},
   "outputs": [],
   "source": [
    "# parsing byte-encoded data into data_parser to get data in desired format for further analysis\n",
    "\n",
    "train_data = data_parser(train_data)\n",
    "test_data = data_parser(test_data)"
   ]
  },
  {
   "cell_type": "markdown",
   "id": "e54f9a17",
   "metadata": {},
   "source": [
    "# Exploring the Data format"
   ]
  },
  {
   "cell_type": "code",
   "execution_count": 6,
   "id": "edcb6da2",
   "metadata": {},
   "outputs": [
    {
     "data": {
      "text/plain": [
       "(1000, list)"
      ]
     },
     "execution_count": 6,
     "metadata": {},
     "output_type": "execute_result"
    }
   ],
   "source": [
    "len(train_data), type(train_data)"
   ]
  },
  {
   "cell_type": "code",
   "execution_count": 7,
   "id": "a4de61be",
   "metadata": {},
   "outputs": [],
   "source": [
    "# train_data[0]"
   ]
  },
  {
   "cell_type": "code",
   "execution_count": 8,
   "id": "0a0157f5",
   "metadata": {},
   "outputs": [
    {
     "data": {
      "text/plain": [
       "3"
      ]
     },
     "execution_count": 8,
     "metadata": {},
     "output_type": "execute_result"
    }
   ],
   "source": [
    "len(train_data[0])"
   ]
  },
  {
   "cell_type": "code",
   "execution_count": 9,
   "id": "0c7dd168",
   "metadata": {},
   "outputs": [
    {
     "name": "stdout",
     "output_type": "stream",
     "text": [
      "STORY:\n",
      "Mary moved to the kitchen . Mary travelled to the office . Daniel grabbed the football there . Mary moved to the hallway . Sandra moved to the bedroom . Mary went back to the bedroom . John grabbed the milk there . John put down the milk . Daniel journeyed to the bathroom . Sandra journeyed to the bathroom . John got the milk there . Mary took the apple there . Mary left the apple . John journeyed to the bedroom . Mary travelled to the office . Daniel put down the football . John went back to the kitchen . Sandra got the football there . John travelled to the hallway . Sandra discarded the football there .\n",
      "\n",
      "QUESTION:\n",
      "Where is the football ?\n",
      "\n",
      "ANSWER:\n",
      "bathroom\n",
      "\n"
     ]
    }
   ],
   "source": [
    "# STORY\n",
    "single_example = train_data[22]\n",
    "\n",
    "print(f\"STORY:\\n{' '.join(single_example[0])}\\n\")\n",
    "print(f\"QUESTION:\\n{' '.join(single_example[1])}\\n\")\n",
    "print(f\"ANSWER:\\n{single_example[2]}\\n\")"
   ]
  },
  {
   "cell_type": "markdown",
   "id": "cd2e5a08",
   "metadata": {},
   "source": [
    "# Creating a vocabulary"
   ]
  },
  {
   "cell_type": "code",
   "execution_count": 10,
   "id": "99c4549d",
   "metadata": {},
   "outputs": [],
   "source": [
    "# vocabulary consists of all the tokens from train and test data\n",
    "\n",
    "all_data = test_data + train_data"
   ]
  },
  {
   "cell_type": "code",
   "execution_count": 11,
   "id": "91b3ea2e",
   "metadata": {},
   "outputs": [
    {
     "data": {
      "text/plain": [
       "2000"
      ]
     },
     "execution_count": 11,
     "metadata": {},
     "output_type": "execute_result"
    }
   ],
   "source": [
    "len(all_data)"
   ]
  },
  {
   "cell_type": "code",
   "execution_count": 12,
   "id": "ed37327c",
   "metadata": {},
   "outputs": [],
   "source": [
    "# getting individual lengths of stories and queries\n",
    "\n",
    "all_stories_len = [len(data[0]) for data in all_data]\n",
    "all_questions_len = [len(data[1]) for data in all_data]"
   ]
  },
  {
   "cell_type": "code",
   "execution_count": 13,
   "id": "8e4f0472",
   "metadata": {},
   "outputs": [],
   "source": [
    "# LENGTH OF LONGEST STORY & QUERY\n",
    "\n",
    "max_story_len = max(all_stories_len)\n",
    "max_question_len = max(all_questions_len)"
   ]
  },
  {
   "cell_type": "code",
   "execution_count": 14,
   "id": "37eab0ed",
   "metadata": {},
   "outputs": [
    {
     "data": {
      "text/plain": [
       "(552, 5)"
      ]
     },
     "execution_count": 14,
     "metadata": {},
     "output_type": "execute_result"
    }
   ],
   "source": [
    "max_story_len, max_question_len"
   ]
  },
  {
   "cell_type": "code",
   "execution_count": 15,
   "id": "670de975",
   "metadata": {},
   "outputs": [],
   "source": [
    "# building up vocabulary from the set of all the tokens of stories and queries.\n",
    "vocab = set()\n",
    "for story, question, answer in all_data:\n",
    "    vocab = vocab.union(set(story))\n",
    "    vocab = vocab.union(set(question))"
   ]
  },
  {
   "cell_type": "code",
   "execution_count": 16,
   "id": "36ef87e9",
   "metadata": {},
   "outputs": [
    {
     "data": {
      "text/plain": [
       "35"
      ]
     },
     "execution_count": 16,
     "metadata": {},
     "output_type": "execute_result"
    }
   ],
   "source": [
    "len(vocab)"
   ]
  },
  {
   "cell_type": "code",
   "execution_count": 17,
   "id": "8d131fee",
   "metadata": {},
   "outputs": [],
   "source": [
    "# padding for masking(used later)\n",
    "\n",
    "vocab_len = len(vocab) + 1"
   ]
  },
  {
   "cell_type": "markdown",
   "id": "2a9830c3",
   "metadata": {},
   "source": [
    "# Vectorization"
   ]
  },
  {
   "cell_type": "code",
   "execution_count": 18,
   "id": "abb689a5",
   "metadata": {},
   "outputs": [],
   "source": [
    "tokenizer = Tokenizer(filters=[])\n",
    "tokenizer.fit_on_texts(vocab)"
   ]
  },
  {
   "cell_type": "code",
   "execution_count": 19,
   "id": "f5aab1c2",
   "metadata": {},
   "outputs": [],
   "source": [
    "# tokenizer.index_word"
   ]
  },
  {
   "cell_type": "code",
   "execution_count": 20,
   "id": "8fe2248f",
   "metadata": {},
   "outputs": [],
   "source": [
    "def vectorize_stories(data,\n",
    "                     word_index=tokenizer.word_index,\n",
    "                     max_story_len=max_story_len,\n",
    "                     max_question_len=max_question_len):\n",
    "    \"\"\"\n",
    "        Takes in data of raw tuples of story, query, answer in token format.\n",
    "        Converts each tokens to word ID from corresponding vocabulary,\n",
    "        pads the sequences upto the corresponding maximum seq in stories and queries\n",
    "        @returns: tuple of padded sequences of word IDs of story, query and answer\n",
    "    \"\"\"\n",
    "    \n",
    "    X = [] # STORIES Vector\n",
    "    Xq = [] # QUERIES Vector\n",
    "    Y = [] # ANSWERS Vector\n",
    "    \n",
    "    for story, question, answer in data:\n",
    "        # generating list of word IDs of current story\n",
    "        x = [word_index[word.lower()] for word in story]\n",
    "        \n",
    "        # generating list of word IDs of current query\n",
    "        xq = [word_index[word.lower()] for word in question]\n",
    "        \n",
    "        # array to hold answer, it will be of size equal vocab plus one for padding\n",
    "        y = np.zeros(len(word_index) + 1)\n",
    "        \n",
    "        # putting 1 for the answer label at corresponding word index\n",
    "        y[word_index[answer]] = 1\n",
    "        \n",
    "        # putting back results\n",
    "        X.append(x)\n",
    "        Xq.append(xq)\n",
    "        Y.append(y)\n",
    "        \n",
    "    # padding of story,query upto their maximum sequences\n",
    "    return (pad_sequences(X, maxlen=max_story_len), pad_sequences(Xq, maxlen=max_question_len), np.array(Y))"
   ]
  },
  {
   "cell_type": "code",
   "execution_count": 21,
   "id": "a0ba1599",
   "metadata": {},
   "outputs": [],
   "source": [
    "# vectorzing stories, queries and corresponding answers of train/test data using vocab \n",
    "inputs_train, queries_train, answers_train = vectorize_stories(train_data)\n",
    "inputs_test, queries_test, answers_test = vectorize_stories(test_data)"
   ]
  },
  {
   "cell_type": "code",
   "execution_count": 22,
   "id": "f09300bd",
   "metadata": {
    "scrolled": true
   },
   "outputs": [],
   "source": [
    "# queries_test"
   ]
  },
  {
   "cell_type": "markdown",
   "id": "a14ac4b4",
   "metadata": {},
   "source": [
    "# Build the Network "
   ]
  },
  {
   "cell_type": "code",
   "execution_count": 23,
   "id": "5cda40dd",
   "metadata": {},
   "outputs": [],
   "source": [
    "vocab_size = len(vocab) + 1"
   ]
  },
  {
   "cell_type": "code",
   "execution_count": 24,
   "id": "f82c0f70",
   "metadata": {},
   "outputs": [],
   "source": [
    "# PLACEHOLDERS to define network computational graph\n",
    "\n",
    "# input sequence to encoder M and encoder C\n",
    "input_sequence = Input(shape=(max_story_len,))\n",
    "\n",
    "# input sequence to question encoder\n",
    "question = Input(shape=(max_question_len,))"
   ]
  },
  {
   "cell_type": "markdown",
   "id": "1f6b24ba",
   "metadata": {},
   "source": [
    "## Input Ecoder M"
   ]
  },
  {
   "cell_type": "code",
   "execution_count": 25,
   "id": "4aa2c90a",
   "metadata": {},
   "outputs": [],
   "source": [
    "# encoder to embedd the input sequences into embedded sequence vectors\n",
    "\n",
    "input_encoder_m = Sequential()\n",
    "input_encoder_m.add(Embedding(input_dim=vocab_size, output_dim=64))\n",
    "input_encoder_m.add(Dropout(0.3))\n",
    "\n",
    "# OUTPUT -----> (samples, story_maxlen, embedding_dim)"
   ]
  },
  {
   "cell_type": "markdown",
   "id": "2dc8b06f",
   "metadata": {},
   "source": [
    "## Input Encoder C"
   ]
  },
  {
   "cell_type": "code",
   "execution_count": 26,
   "id": "94e90bb2",
   "metadata": {},
   "outputs": [],
   "source": [
    "# encoder to embedd the input sequences into embedded sequence vectors of dim equals to max query len\n",
    "\n",
    "input_encoder_c = Sequential()\n",
    "input_encoder_c.add(Embedding(input_dim=vocab_size, output_dim=max_question_len))\n",
    "input_encoder_c.add(Dropout(0.3))\n",
    "\n",
    "# OUTPUT -----> (samples, story_maxlen, max_question_len)"
   ]
  },
  {
   "cell_type": "markdown",
   "id": "781f95e2",
   "metadata": {},
   "source": [
    "## Question Encoder"
   ]
  },
  {
   "cell_type": "code",
   "execution_count": 27,
   "id": "14c5c9ae",
   "metadata": {},
   "outputs": [],
   "source": [
    "# encoder to embedd the query into sequence of embedded vector\n",
    "\n",
    "question_encoder = Sequential()\n",
    "question_encoder.add(Embedding(input_dim=vocab_size, output_dim=64, input_length=max_question_len))\n",
    "question_encoder.add(Dropout(0.3))\n",
    "\n",
    "# (samples, query_maxlen, embedding_dim)"
   ]
  },
  {
   "cell_type": "markdown",
   "id": "fa16563e",
   "metadata": {},
   "source": [
    "## Sequence Encodings"
   ]
  },
  {
   "cell_type": "code",
   "execution_count": 28,
   "id": "b3c62b22",
   "metadata": {},
   "outputs": [],
   "source": [
    "# embedding the input sequence(os stories) in the form of word indices \n",
    "# into sequence of dense vectors using Encoder M and Encoder C\n",
    "input_encoded_m = input_encoder_m(input_sequence)\n",
    "input_encoded_c = input_encoder_c(input_sequence)\n",
    "\n",
    "# embedding the sequences of word indices of questions into\n",
    "# sequence of dense vectors using Question Encoder\n",
    "question_encoded = question_encoder(question)"
   ]
  },
  {
   "cell_type": "markdown",
   "id": "a733cd84",
   "metadata": {},
   "source": [
    "## Model Architecture"
   ]
  },
  {
   "cell_type": "code",
   "execution_count": 29,
   "id": "183a5b47",
   "metadata": {},
   "outputs": [],
   "source": [
    "# match between to input vector sequence and question vector \n",
    "# sequences and applying softmax to get attention scores \n",
    "match = dot([input_encoded_m, question_encoded], axes=(2,2))\n",
    "match = Activation('softmax')(match)\n",
    "\n",
    "# summing up the match score matrix and input vector sequence\n",
    "response = add([match, input_encoded_c])\n",
    "response = Permute((2,1))(response)\n",
    "\n",
    "# concatenating the response vector with the question vector sequence\n",
    "answer = concatenate([response, question_encoded])\n",
    "\n",
    "# feeding to RNN\n",
    "answer = LSTM(units=32)(answer)\n",
    "answer = Dropout(0.5)(answer) # for regularization effect\n",
    "answer = Dense(units=vocab_size)(answer) # getting output\n",
    "\n",
    "# applying softmax to get probability dist. over the vocabulary  \n",
    "answer = Activation('softmax')(answer)"
   ]
  },
  {
   "cell_type": "code",
   "execution_count": 34,
   "id": "79233463",
   "metadata": {},
   "outputs": [],
   "source": [
    "# building model\n",
    "\n",
    "model = Model([input_sequence, question], answer)"
   ]
  },
  {
   "cell_type": "code",
   "execution_count": 35,
   "id": "992b736b",
   "metadata": {},
   "outputs": [],
   "source": [
    "# compiling\n",
    "\n",
    "model.compile(optimizer='rmsprop', loss='categorical_crossentropy', metrics=['accuracy'])"
   ]
  },
  {
   "cell_type": "code",
   "execution_count": 32,
   "id": "2583e312",
   "metadata": {},
   "outputs": [
    {
     "name": "stdout",
     "output_type": "stream",
     "text": [
      "Model: \"model\"\n",
      "__________________________________________________________________________________________________\n",
      " Layer (type)                Output Shape                 Param #   Connected to                  \n",
      "==================================================================================================\n",
      " input_1 (InputLayer)        [(None, 552)]                0         []                            \n",
      "                                                                                                  \n",
      " input_2 (InputLayer)        [(None, 5)]                  0         []                            \n",
      "                                                                                                  \n",
      " sequential (Sequential)     (None, None, 64)             2304      ['input_1[0][0]']             \n",
      "                                                                                                  \n",
      " sequential_2 (Sequential)   (None, 5, 64)                2304      ['input_2[0][0]']             \n",
      "                                                                                                  \n",
      " dot (Dot)                   (None, 552, 5)               0         ['sequential[0][0]',          \n",
      "                                                                     'sequential_2[0][0]']        \n",
      "                                                                                                  \n",
      " activation (Activation)     (None, 552, 5)               0         ['dot[0][0]']                 \n",
      "                                                                                                  \n",
      " sequential_1 (Sequential)   (None, None, 5)              180       ['input_1[0][0]']             \n",
      "                                                                                                  \n",
      " add (Add)                   (None, 552, 5)               0         ['activation[0][0]',          \n",
      "                                                                     'sequential_1[0][0]']        \n",
      "                                                                                                  \n",
      " permute (Permute)           (None, 5, 552)               0         ['add[0][0]']                 \n",
      "                                                                                                  \n",
      " concatenate (Concatenate)   (None, 5, 616)               0         ['permute[0][0]',             \n",
      "                                                                     'sequential_2[0][0]']        \n",
      "                                                                                                  \n",
      " lstm (LSTM)                 (None, 32)                   83072     ['concatenate[0][0]']         \n",
      "                                                                                                  \n",
      " dropout_3 (Dropout)         (None, 32)                   0         ['lstm[0][0]']                \n",
      "                                                                                                  \n",
      " dense (Dense)               (None, 36)                   1188      ['dropout_3[0][0]']           \n",
      "                                                                                                  \n",
      " activation_1 (Activation)   (None, 36)                   0         ['dense[0][0]']               \n",
      "                                                                                                  \n",
      "==================================================================================================\n",
      "Total params: 89048 (347.84 KB)\n",
      "Trainable params: 89048 (347.84 KB)\n",
      "Non-trainable params: 0 (0.00 Byte)\n",
      "__________________________________________________________________________________________________\n"
     ]
    }
   ],
   "source": [
    "model.summary()"
   ]
  },
  {
   "cell_type": "markdown",
   "id": "b3906be8",
   "metadata": {},
   "source": [
    "# Model Training"
   ]
  },
  {
   "cell_type": "code",
   "execution_count": 36,
   "id": "4149163a",
   "metadata": {},
   "outputs": [
    {
     "name": "stdout",
     "output_type": "stream",
     "text": [
      "Epoch 1/150\n",
      "32/32 [==============================] - 4s 58ms/step - loss: 1.5550 - accuracy: 0.3730 - val_loss: 1.4333 - val_accuracy: 0.5110\n",
      "Epoch 2/150\n",
      "32/32 [==============================] - 1s 37ms/step - loss: 1.5282 - accuracy: 0.3890 - val_loss: 1.4158 - val_accuracy: 0.5020\n",
      "Epoch 3/150\n",
      "32/32 [==============================] - 1s 33ms/step - loss: 1.5032 - accuracy: 0.4120 - val_loss: 1.3979 - val_accuracy: 0.5080\n",
      "Epoch 4/150\n",
      "32/32 [==============================] - 1s 32ms/step - loss: 1.5111 - accuracy: 0.3950 - val_loss: 1.3844 - val_accuracy: 0.5140\n",
      "Epoch 5/150\n",
      "32/32 [==============================] - 1s 33ms/step - loss: 1.5025 - accuracy: 0.4140 - val_loss: 1.3742 - val_accuracy: 0.5350\n",
      "Epoch 6/150\n",
      "32/32 [==============================] - 1s 32ms/step - loss: 1.4605 - accuracy: 0.4400 - val_loss: 1.3578 - val_accuracy: 0.5330\n",
      "Epoch 7/150\n",
      "32/32 [==============================] - 1s 32ms/step - loss: 1.4514 - accuracy: 0.4380 - val_loss: 1.3447 - val_accuracy: 0.5180\n",
      "Epoch 8/150\n",
      "32/32 [==============================] - 1s 32ms/step - loss: 1.4851 - accuracy: 0.4260 - val_loss: 1.3269 - val_accuracy: 0.5370\n",
      "Epoch 9/150\n",
      "32/32 [==============================] - 1s 33ms/step - loss: 1.4350 - accuracy: 0.4520 - val_loss: 1.3145 - val_accuracy: 0.5540\n",
      "Epoch 10/150\n",
      "32/32 [==============================] - 1s 34ms/step - loss: 1.4370 - accuracy: 0.4620 - val_loss: 1.3052 - val_accuracy: 0.5560\n",
      "Epoch 11/150\n",
      "32/32 [==============================] - 1s 42ms/step - loss: 1.4025 - accuracy: 0.4670 - val_loss: 1.2783 - val_accuracy: 0.5590\n",
      "Epoch 12/150\n",
      "32/32 [==============================] - 1s 34ms/step - loss: 1.3894 - accuracy: 0.4750 - val_loss: 1.2656 - val_accuracy: 0.5680\n",
      "Epoch 13/150\n",
      "32/32 [==============================] - 1s 33ms/step - loss: 1.4089 - accuracy: 0.4670 - val_loss: 1.2486 - val_accuracy: 0.5730\n",
      "Epoch 14/150\n",
      "32/32 [==============================] - 1s 34ms/step - loss: 1.3525 - accuracy: 0.4910 - val_loss: 1.2323 - val_accuracy: 0.5880\n",
      "Epoch 15/150\n",
      "32/32 [==============================] - 1s 32ms/step - loss: 1.3902 - accuracy: 0.4740 - val_loss: 1.2146 - val_accuracy: 0.5890\n",
      "Epoch 16/150\n",
      "32/32 [==============================] - 1s 32ms/step - loss: 1.3378 - accuracy: 0.4880 - val_loss: 1.2089 - val_accuracy: 0.5860\n",
      "Epoch 17/150\n",
      "32/32 [==============================] - 1s 32ms/step - loss: 1.3417 - accuracy: 0.4940 - val_loss: 1.1912 - val_accuracy: 0.6060\n",
      "Epoch 18/150\n",
      "32/32 [==============================] - 1s 33ms/step - loss: 1.3350 - accuracy: 0.4880 - val_loss: 1.1689 - val_accuracy: 0.6110\n",
      "Epoch 19/150\n",
      "32/32 [==============================] - 1s 33ms/step - loss: 1.2999 - accuracy: 0.5160 - val_loss: 1.1672 - val_accuracy: 0.5970\n",
      "Epoch 20/150\n",
      "32/32 [==============================] - 1s 33ms/step - loss: 1.3335 - accuracy: 0.5010 - val_loss: 1.1432 - val_accuracy: 0.6160\n",
      "Epoch 21/150\n",
      "32/32 [==============================] - 1s 32ms/step - loss: 1.3007 - accuracy: 0.4930 - val_loss: 1.1273 - val_accuracy: 0.6410\n",
      "Epoch 22/150\n",
      "32/32 [==============================] - 1s 32ms/step - loss: 1.2700 - accuracy: 0.5170 - val_loss: 1.1153 - val_accuracy: 0.6290\n",
      "Epoch 23/150\n",
      "32/32 [==============================] - 1s 33ms/step - loss: 1.2790 - accuracy: 0.5300 - val_loss: 1.1041 - val_accuracy: 0.6250\n",
      "Epoch 24/150\n",
      "32/32 [==============================] - 1s 33ms/step - loss: 1.2762 - accuracy: 0.5070 - val_loss: 1.0833 - val_accuracy: 0.6440\n",
      "Epoch 25/150\n",
      "32/32 [==============================] - 1s 32ms/step - loss: 1.2629 - accuracy: 0.5010 - val_loss: 1.0609 - val_accuracy: 0.6710\n",
      "Epoch 26/150\n",
      "32/32 [==============================] - 1s 32ms/step - loss: 1.2529 - accuracy: 0.5240 - val_loss: 1.0451 - val_accuracy: 0.6600\n",
      "Epoch 27/150\n",
      "32/32 [==============================] - 1s 33ms/step - loss: 1.2419 - accuracy: 0.5360 - val_loss: 1.0296 - val_accuracy: 0.6650\n",
      "Epoch 28/150\n",
      "32/32 [==============================] - 1s 33ms/step - loss: 1.2032 - accuracy: 0.5550 - val_loss: 1.0210 - val_accuracy: 0.6760\n",
      "Epoch 29/150\n",
      "32/32 [==============================] - 1s 32ms/step - loss: 1.2182 - accuracy: 0.5510 - val_loss: 1.0113 - val_accuracy: 0.6690\n",
      "Epoch 30/150\n",
      "32/32 [==============================] - 1s 32ms/step - loss: 1.1661 - accuracy: 0.5810 - val_loss: 0.9930 - val_accuracy: 0.6780\n",
      "Epoch 31/150\n",
      "32/32 [==============================] - 1s 39ms/step - loss: 1.1708 - accuracy: 0.5610 - val_loss: 0.9654 - val_accuracy: 0.7030\n",
      "Epoch 32/150\n",
      "32/32 [==============================] - 1s 35ms/step - loss: 1.1817 - accuracy: 0.5310 - val_loss: 0.9619 - val_accuracy: 0.7170\n",
      "Epoch 33/150\n",
      "32/32 [==============================] - 1s 36ms/step - loss: 1.1303 - accuracy: 0.5920 - val_loss: 0.9532 - val_accuracy: 0.6880\n",
      "Epoch 34/150\n",
      "32/32 [==============================] - 1s 33ms/step - loss: 1.1250 - accuracy: 0.5840 - val_loss: 0.9132 - val_accuracy: 0.7180\n",
      "Epoch 35/150\n",
      "32/32 [==============================] - 1s 33ms/step - loss: 1.1572 - accuracy: 0.5650 - val_loss: 0.8996 - val_accuracy: 0.7330\n",
      "Epoch 36/150\n",
      "32/32 [==============================] - 1s 33ms/step - loss: 1.1225 - accuracy: 0.5830 - val_loss: 0.8836 - val_accuracy: 0.7440\n",
      "Epoch 37/150\n",
      "32/32 [==============================] - 1s 32ms/step - loss: 1.1038 - accuracy: 0.5800 - val_loss: 0.8714 - val_accuracy: 0.7440\n",
      "Epoch 38/150\n",
      "32/32 [==============================] - 1s 33ms/step - loss: 1.0781 - accuracy: 0.5950 - val_loss: 0.8628 - val_accuracy: 0.7500\n",
      "Epoch 39/150\n",
      "32/32 [==============================] - 1s 33ms/step - loss: 1.0753 - accuracy: 0.5920 - val_loss: 0.8434 - val_accuracy: 0.7630\n",
      "Epoch 40/150\n",
      "32/32 [==============================] - 1s 33ms/step - loss: 1.0913 - accuracy: 0.6060 - val_loss: 0.8203 - val_accuracy: 0.7670\n",
      "Epoch 41/150\n",
      "32/32 [==============================] - 1s 33ms/step - loss: 1.0660 - accuracy: 0.6140 - val_loss: 0.7995 - val_accuracy: 0.7820\n",
      "Epoch 42/150\n",
      "32/32 [==============================] - 1s 33ms/step - loss: 1.0334 - accuracy: 0.6300 - val_loss: 0.8014 - val_accuracy: 0.7790\n",
      "Epoch 43/150\n",
      "32/32 [==============================] - 1s 33ms/step - loss: 1.0518 - accuracy: 0.6010 - val_loss: 0.7866 - val_accuracy: 0.7720\n",
      "Epoch 44/150\n",
      "32/32 [==============================] - 1s 34ms/step - loss: 1.0331 - accuracy: 0.6320 - val_loss: 0.7603 - val_accuracy: 0.7970\n",
      "Epoch 45/150\n",
      "32/32 [==============================] - 1s 33ms/step - loss: 0.9938 - accuracy: 0.6250 - val_loss: 0.7520 - val_accuracy: 0.8030\n",
      "Epoch 46/150\n",
      "32/32 [==============================] - 1s 33ms/step - loss: 1.0124 - accuracy: 0.6270 - val_loss: 0.7373 - val_accuracy: 0.8080\n",
      "Epoch 47/150\n",
      "32/32 [==============================] - 1s 33ms/step - loss: 0.9587 - accuracy: 0.6490 - val_loss: 0.7278 - val_accuracy: 0.7940\n",
      "Epoch 48/150\n",
      "32/32 [==============================] - 1s 34ms/step - loss: 0.9810 - accuracy: 0.6470 - val_loss: 0.7079 - val_accuracy: 0.8170\n",
      "Epoch 49/150\n",
      "32/32 [==============================] - 1s 32ms/step - loss: 1.0026 - accuracy: 0.6420 - val_loss: 0.6884 - val_accuracy: 0.8300\n",
      "Epoch 50/150\n",
      "32/32 [==============================] - 1s 33ms/step - loss: 0.9802 - accuracy: 0.6400 - val_loss: 0.6731 - val_accuracy: 0.8410\n",
      "Epoch 51/150\n",
      "32/32 [==============================] - 1s 34ms/step - loss: 0.9663 - accuracy: 0.6380 - val_loss: 0.6559 - val_accuracy: 0.8480\n",
      "Epoch 52/150\n",
      "32/32 [==============================] - 1s 33ms/step - loss: 0.9491 - accuracy: 0.6630 - val_loss: 0.6422 - val_accuracy: 0.8400\n",
      "Epoch 53/150\n",
      "32/32 [==============================] - 1s 33ms/step - loss: 0.9381 - accuracy: 0.6600 - val_loss: 0.6358 - val_accuracy: 0.8420\n",
      "Epoch 54/150\n",
      "32/32 [==============================] - 1s 33ms/step - loss: 0.9363 - accuracy: 0.6550 - val_loss: 0.6248 - val_accuracy: 0.8430\n",
      "Epoch 55/150\n",
      "32/32 [==============================] - 1s 33ms/step - loss: 0.9208 - accuracy: 0.6670 - val_loss: 0.6512 - val_accuracy: 0.8140\n",
      "Epoch 56/150\n",
      "32/32 [==============================] - 1s 33ms/step - loss: 0.8925 - accuracy: 0.6760 - val_loss: 0.6463 - val_accuracy: 0.8180\n",
      "Epoch 57/150\n",
      "32/32 [==============================] - 1s 38ms/step - loss: 0.8993 - accuracy: 0.6690 - val_loss: 0.5972 - val_accuracy: 0.8590\n",
      "Epoch 58/150\n",
      "32/32 [==============================] - 1s 33ms/step - loss: 0.8890 - accuracy: 0.6790 - val_loss: 0.5674 - val_accuracy: 0.8730\n",
      "Epoch 59/150\n",
      "32/32 [==============================] - 1s 32ms/step - loss: 0.8372 - accuracy: 0.7110 - val_loss: 0.5749 - val_accuracy: 0.8460\n",
      "Epoch 60/150\n",
      "32/32 [==============================] - 1s 33ms/step - loss: 0.8599 - accuracy: 0.7010 - val_loss: 0.5790 - val_accuracy: 0.8560\n",
      "Epoch 61/150\n",
      "32/32 [==============================] - 1s 32ms/step - loss: 0.8141 - accuracy: 0.7100 - val_loss: 0.5225 - val_accuracy: 0.8880\n",
      "Epoch 62/150\n",
      "32/32 [==============================] - 1s 32ms/step - loss: 0.8182 - accuracy: 0.7030 - val_loss: 0.5347 - val_accuracy: 0.8700\n",
      "Epoch 63/150\n",
      "32/32 [==============================] - 1s 32ms/step - loss: 0.8158 - accuracy: 0.7090 - val_loss: 0.5028 - val_accuracy: 0.8830\n",
      "Epoch 64/150\n",
      "32/32 [==============================] - 1s 33ms/step - loss: 0.8227 - accuracy: 0.7030 - val_loss: 0.5066 - val_accuracy: 0.8850\n",
      "Epoch 65/150\n",
      "32/32 [==============================] - 1s 32ms/step - loss: 0.7898 - accuracy: 0.7170 - val_loss: 0.4854 - val_accuracy: 0.8950\n",
      "Epoch 66/150\n",
      "32/32 [==============================] - 1s 32ms/step - loss: 0.7883 - accuracy: 0.7230 - val_loss: 0.4845 - val_accuracy: 0.8870\n",
      "Epoch 67/150\n",
      "32/32 [==============================] - 1s 32ms/step - loss: 0.7646 - accuracy: 0.7420 - val_loss: 0.4572 - val_accuracy: 0.9070\n",
      "Epoch 68/150\n",
      "32/32 [==============================] - 1s 32ms/step - loss: 0.7753 - accuracy: 0.7060 - val_loss: 0.5316 - val_accuracy: 0.8460\n",
      "Epoch 69/150\n",
      "32/32 [==============================] - 1s 33ms/step - loss: 0.7768 - accuracy: 0.7240 - val_loss: 0.4525 - val_accuracy: 0.8990\n",
      "Epoch 70/150\n",
      "32/32 [==============================] - 1s 32ms/step - loss: 0.7360 - accuracy: 0.7320 - val_loss: 0.4428 - val_accuracy: 0.9090\n",
      "Epoch 71/150\n",
      "32/32 [==============================] - 1s 34ms/step - loss: 0.7644 - accuracy: 0.7280 - val_loss: 0.4233 - val_accuracy: 0.9140\n",
      "Epoch 72/150\n",
      "32/32 [==============================] - 1s 32ms/step - loss: 0.7462 - accuracy: 0.7300 - val_loss: 0.4313 - val_accuracy: 0.9020\n",
      "Epoch 73/150\n",
      "32/32 [==============================] - 1s 33ms/step - loss: 0.7246 - accuracy: 0.7390 - val_loss: 0.4035 - val_accuracy: 0.9090\n",
      "Epoch 74/150\n",
      "32/32 [==============================] - 1s 32ms/step - loss: 0.7239 - accuracy: 0.7440 - val_loss: 0.4150 - val_accuracy: 0.9050\n",
      "Epoch 75/150\n",
      "32/32 [==============================] - 1s 32ms/step - loss: 0.7008 - accuracy: 0.7430 - val_loss: 0.3985 - val_accuracy: 0.9080\n",
      "Epoch 76/150\n",
      "32/32 [==============================] - 1s 32ms/step - loss: 0.7216 - accuracy: 0.7430 - val_loss: 0.3770 - val_accuracy: 0.9200\n",
      "Epoch 77/150\n",
      "32/32 [==============================] - 1s 33ms/step - loss: 0.6965 - accuracy: 0.7550 - val_loss: 0.3609 - val_accuracy: 0.9210\n",
      "Epoch 78/150\n",
      "32/32 [==============================] - 1s 32ms/step - loss: 0.6990 - accuracy: 0.7510 - val_loss: 0.4430 - val_accuracy: 0.8770\n",
      "Epoch 79/150\n",
      "32/32 [==============================] - 1s 33ms/step - loss: 0.7289 - accuracy: 0.7220 - val_loss: 0.3435 - val_accuracy: 0.9410\n",
      "Epoch 80/150\n",
      "32/32 [==============================] - 1s 33ms/step - loss: 0.6985 - accuracy: 0.7550 - val_loss: 0.3787 - val_accuracy: 0.9070\n",
      "Epoch 81/150\n",
      "32/32 [==============================] - 1s 32ms/step - loss: 0.6831 - accuracy: 0.7430 - val_loss: 0.3558 - val_accuracy: 0.9260\n",
      "Epoch 82/150\n",
      "32/32 [==============================] - 1s 32ms/step - loss: 0.6933 - accuracy: 0.7530 - val_loss: 0.3239 - val_accuracy: 0.9400\n",
      "Epoch 83/150\n",
      "32/32 [==============================] - 1s 32ms/step - loss: 0.6460 - accuracy: 0.7810 - val_loss: 0.3393 - val_accuracy: 0.9320\n",
      "Epoch 84/150\n",
      "32/32 [==============================] - 1s 33ms/step - loss: 0.6881 - accuracy: 0.7690 - val_loss: 0.3150 - val_accuracy: 0.9340\n",
      "Epoch 85/150\n",
      "32/32 [==============================] - 1s 33ms/step - loss: 0.6519 - accuracy: 0.7770 - val_loss: 0.2994 - val_accuracy: 0.9490\n",
      "Epoch 86/150\n",
      "32/32 [==============================] - 1s 33ms/step - loss: 0.6520 - accuracy: 0.7570 - val_loss: 0.2960 - val_accuracy: 0.9430\n",
      "Epoch 87/150\n",
      "32/32 [==============================] - 1s 38ms/step - loss: 0.6294 - accuracy: 0.7780 - val_loss: 0.3205 - val_accuracy: 0.9270\n",
      "Epoch 88/150\n",
      "32/32 [==============================] - 1s 36ms/step - loss: 0.6604 - accuracy: 0.7600 - val_loss: 0.2905 - val_accuracy: 0.9360\n",
      "Epoch 89/150\n",
      "32/32 [==============================] - 1s 38ms/step - loss: 0.6022 - accuracy: 0.7830 - val_loss: 0.2811 - val_accuracy: 0.9460\n",
      "Epoch 90/150\n",
      "32/32 [==============================] - 1s 32ms/step - loss: 0.6440 - accuracy: 0.7680 - val_loss: 0.2944 - val_accuracy: 0.9440\n",
      "Epoch 91/150\n",
      "32/32 [==============================] - 1s 32ms/step - loss: 0.6194 - accuracy: 0.7730 - val_loss: 0.2564 - val_accuracy: 0.9540\n",
      "Epoch 92/150\n",
      "32/32 [==============================] - 1s 33ms/step - loss: 0.6328 - accuracy: 0.7750 - val_loss: 0.2562 - val_accuracy: 0.9550\n",
      "Epoch 93/150\n",
      "32/32 [==============================] - 1s 32ms/step - loss: 0.6008 - accuracy: 0.7970 - val_loss: 0.2520 - val_accuracy: 0.9490\n",
      "Epoch 94/150\n",
      "32/32 [==============================] - 1s 32ms/step - loss: 0.5573 - accuracy: 0.8020 - val_loss: 0.2546 - val_accuracy: 0.9520\n",
      "Epoch 95/150\n",
      "32/32 [==============================] - 1s 34ms/step - loss: 0.5859 - accuracy: 0.7830 - val_loss: 0.2352 - val_accuracy: 0.9540\n",
      "Epoch 96/150\n",
      "32/32 [==============================] - 1s 33ms/step - loss: 0.5672 - accuracy: 0.7980 - val_loss: 0.2389 - val_accuracy: 0.9590\n",
      "Epoch 97/150\n",
      "32/32 [==============================] - 1s 32ms/step - loss: 0.5739 - accuracy: 0.8060 - val_loss: 0.2739 - val_accuracy: 0.9320\n",
      "Epoch 98/150\n",
      "32/32 [==============================] - 1s 33ms/step - loss: 0.5417 - accuracy: 0.8050 - val_loss: 0.2189 - val_accuracy: 0.9650\n",
      "Epoch 99/150\n",
      "32/32 [==============================] - 1s 34ms/step - loss: 0.5751 - accuracy: 0.8030 - val_loss: 0.2101 - val_accuracy: 0.9660\n",
      "Epoch 100/150\n",
      "32/32 [==============================] - 1s 34ms/step - loss: 0.5373 - accuracy: 0.8140 - val_loss: 0.2230 - val_accuracy: 0.9500\n",
      "Epoch 101/150\n",
      "32/32 [==============================] - 1s 33ms/step - loss: 0.5369 - accuracy: 0.8100 - val_loss: 0.2050 - val_accuracy: 0.9620\n",
      "Epoch 102/150\n",
      "32/32 [==============================] - 1s 32ms/step - loss: 0.5856 - accuracy: 0.7820 - val_loss: 0.1997 - val_accuracy: 0.9630\n",
      "Epoch 103/150\n",
      "32/32 [==============================] - 1s 33ms/step - loss: 0.5197 - accuracy: 0.8190 - val_loss: 0.1946 - val_accuracy: 0.9590\n",
      "Epoch 104/150\n",
      "32/32 [==============================] - 1s 31ms/step - loss: 0.5415 - accuracy: 0.8100 - val_loss: 0.2042 - val_accuracy: 0.9610\n",
      "Epoch 105/150\n",
      "32/32 [==============================] - 1s 32ms/step - loss: 0.5455 - accuracy: 0.8200 - val_loss: 0.1918 - val_accuracy: 0.9660\n",
      "Epoch 106/150\n",
      "32/32 [==============================] - 1s 32ms/step - loss: 0.4932 - accuracy: 0.8240 - val_loss: 0.2218 - val_accuracy: 0.9370\n",
      "Epoch 107/150\n",
      "32/32 [==============================] - 1s 32ms/step - loss: 0.5045 - accuracy: 0.8260 - val_loss: 0.1716 - val_accuracy: 0.9720\n",
      "Epoch 108/150\n",
      "32/32 [==============================] - 1s 32ms/step - loss: 0.5340 - accuracy: 0.8030 - val_loss: 0.1939 - val_accuracy: 0.9630\n",
      "Epoch 109/150\n",
      "32/32 [==============================] - 1s 31ms/step - loss: 0.4675 - accuracy: 0.8390 - val_loss: 0.1726 - val_accuracy: 0.9710\n",
      "Epoch 110/150\n",
      "32/32 [==============================] - 1s 33ms/step - loss: 0.5166 - accuracy: 0.8230 - val_loss: 0.1821 - val_accuracy: 0.9610\n",
      "Epoch 111/150\n",
      "32/32 [==============================] - 1s 32ms/step - loss: 0.5463 - accuracy: 0.8190 - val_loss: 0.1782 - val_accuracy: 0.9630\n",
      "Epoch 112/150\n",
      "32/32 [==============================] - 1s 33ms/step - loss: 0.4894 - accuracy: 0.8290 - val_loss: 0.1773 - val_accuracy: 0.9600\n",
      "Epoch 113/150\n",
      "32/32 [==============================] - 1s 33ms/step - loss: 0.4785 - accuracy: 0.8240 - val_loss: 0.1487 - val_accuracy: 0.9770\n",
      "Epoch 114/150\n",
      "32/32 [==============================] - 1s 33ms/step - loss: 0.5142 - accuracy: 0.8060 - val_loss: 0.1800 - val_accuracy: 0.9650\n",
      "Epoch 115/150\n"
     ]
    },
    {
     "name": "stdout",
     "output_type": "stream",
     "text": [
      "32/32 [==============================] - 1s 32ms/step - loss: 0.4816 - accuracy: 0.8240 - val_loss: 0.1549 - val_accuracy: 0.9710\n",
      "Epoch 116/150\n",
      "32/32 [==============================] - 1s 32ms/step - loss: 0.5000 - accuracy: 0.8220 - val_loss: 0.1424 - val_accuracy: 0.9850\n",
      "Epoch 117/150\n",
      "32/32 [==============================] - 1s 32ms/step - loss: 0.4784 - accuracy: 0.8290 - val_loss: 0.1703 - val_accuracy: 0.9670\n",
      "Epoch 118/150\n",
      "32/32 [==============================] - 1s 32ms/step - loss: 0.4876 - accuracy: 0.8230 - val_loss: 0.1389 - val_accuracy: 0.9810\n",
      "Epoch 119/150\n",
      "32/32 [==============================] - 1s 32ms/step - loss: 0.4409 - accuracy: 0.8370 - val_loss: 0.1378 - val_accuracy: 0.9790\n",
      "Epoch 120/150\n",
      "32/32 [==============================] - 1s 32ms/step - loss: 0.4502 - accuracy: 0.8450 - val_loss: 0.1553 - val_accuracy: 0.9730\n",
      "Epoch 121/150\n",
      "32/32 [==============================] - 1s 32ms/step - loss: 0.4591 - accuracy: 0.8460 - val_loss: 0.1489 - val_accuracy: 0.9700\n",
      "Epoch 122/150\n",
      "32/32 [==============================] - 1s 32ms/step - loss: 0.4353 - accuracy: 0.8420 - val_loss: 0.1241 - val_accuracy: 0.9830\n",
      "Epoch 123/150\n",
      "32/32 [==============================] - 1s 33ms/step - loss: 0.4630 - accuracy: 0.8350 - val_loss: 0.1401 - val_accuracy: 0.9760\n",
      "Epoch 124/150\n",
      "32/32 [==============================] - 1s 32ms/step - loss: 0.5020 - accuracy: 0.8060 - val_loss: 0.1217 - val_accuracy: 0.9840\n",
      "Epoch 125/150\n",
      "32/32 [==============================] - 1s 33ms/step - loss: 0.4644 - accuracy: 0.8390 - val_loss: 0.1257 - val_accuracy: 0.9800\n",
      "Epoch 126/150\n",
      "32/32 [==============================] - 1s 32ms/step - loss: 0.4271 - accuracy: 0.8460 - val_loss: 0.1200 - val_accuracy: 0.9850\n",
      "Epoch 127/150\n",
      "32/32 [==============================] - 1s 32ms/step - loss: 0.3885 - accuracy: 0.8620 - val_loss: 0.1175 - val_accuracy: 0.9810\n",
      "Epoch 128/150\n",
      "32/32 [==============================] - 1s 32ms/step - loss: 0.4416 - accuracy: 0.8440 - val_loss: 0.1043 - val_accuracy: 0.9870\n",
      "Epoch 129/150\n",
      "32/32 [==============================] - 1s 31ms/step - loss: 0.4064 - accuracy: 0.8480 - val_loss: 0.1011 - val_accuracy: 0.9860\n",
      "Epoch 130/150\n",
      "32/32 [==============================] - 1s 31ms/step - loss: 0.4076 - accuracy: 0.8630 - val_loss: 0.1005 - val_accuracy: 0.9880\n",
      "Epoch 131/150\n",
      "32/32 [==============================] - 1s 31ms/step - loss: 0.3860 - accuracy: 0.8620 - val_loss: 0.0981 - val_accuracy: 0.9860\n",
      "Epoch 132/150\n",
      "32/32 [==============================] - 1s 30ms/step - loss: 0.4097 - accuracy: 0.8680 - val_loss: 0.1035 - val_accuracy: 0.9850\n",
      "Epoch 133/150\n",
      "32/32 [==============================] - 1s 32ms/step - loss: 0.4078 - accuracy: 0.8600 - val_loss: 0.1086 - val_accuracy: 0.9790\n",
      "Epoch 134/150\n",
      "32/32 [==============================] - 1s 33ms/step - loss: 0.4242 - accuracy: 0.8570 - val_loss: 0.0995 - val_accuracy: 0.9870\n",
      "Epoch 135/150\n",
      "32/32 [==============================] - 1s 32ms/step - loss: 0.3885 - accuracy: 0.8630 - val_loss: 0.0941 - val_accuracy: 0.9880\n",
      "Epoch 136/150\n",
      "32/32 [==============================] - 1s 34ms/step - loss: 0.3585 - accuracy: 0.8740 - val_loss: 0.1048 - val_accuracy: 0.9800\n",
      "Epoch 137/150\n",
      "32/32 [==============================] - 1s 32ms/step - loss: 0.4128 - accuracy: 0.8540 - val_loss: 0.0850 - val_accuracy: 0.9880\n",
      "Epoch 138/150\n",
      "32/32 [==============================] - 1s 32ms/step - loss: 0.3512 - accuracy: 0.8670 - val_loss: 0.0917 - val_accuracy: 0.9820\n",
      "Epoch 139/150\n",
      "32/32 [==============================] - 1s 32ms/step - loss: 0.3503 - accuracy: 0.8720 - val_loss: 0.0763 - val_accuracy: 0.9930\n",
      "Epoch 140/150\n",
      "32/32 [==============================] - 1s 32ms/step - loss: 0.3776 - accuracy: 0.8740 - val_loss: 0.0767 - val_accuracy: 0.9920\n",
      "Epoch 141/150\n",
      "32/32 [==============================] - 1s 31ms/step - loss: 0.3621 - accuracy: 0.8740 - val_loss: 0.0765 - val_accuracy: 0.9890\n",
      "Epoch 142/150\n",
      "32/32 [==============================] - 1s 32ms/step - loss: 0.3498 - accuracy: 0.8790 - val_loss: 0.0838 - val_accuracy: 0.9880\n",
      "Epoch 143/150\n",
      "32/32 [==============================] - 1s 31ms/step - loss: 0.3417 - accuracy: 0.8820 - val_loss: 0.0831 - val_accuracy: 0.9860\n",
      "Epoch 144/150\n",
      "32/32 [==============================] - 1s 32ms/step - loss: 0.3463 - accuracy: 0.8830 - val_loss: 0.0738 - val_accuracy: 0.9930\n",
      "Epoch 145/150\n",
      "32/32 [==============================] - 1s 36ms/step - loss: 0.3567 - accuracy: 0.8740 - val_loss: 0.1234 - val_accuracy: 0.9650\n",
      "Epoch 146/150\n",
      "32/32 [==============================] - 1s 38ms/step - loss: 0.3603 - accuracy: 0.8710 - val_loss: 0.0787 - val_accuracy: 0.9890\n",
      "Epoch 147/150\n",
      "32/32 [==============================] - 1s 32ms/step - loss: 0.3732 - accuracy: 0.8630 - val_loss: 0.0744 - val_accuracy: 0.9910\n",
      "Epoch 148/150\n",
      "32/32 [==============================] - 1s 33ms/step - loss: 0.3562 - accuracy: 0.8690 - val_loss: 0.0820 - val_accuracy: 0.9860\n",
      "Epoch 149/150\n",
      "32/32 [==============================] - 1s 32ms/step - loss: 0.3543 - accuracy: 0.8720 - val_loss: 0.0602 - val_accuracy: 0.9920\n",
      "Epoch 150/150\n",
      "32/32 [==============================] - 1s 33ms/step - loss: 0.3514 - accuracy: 0.8790 - val_loss: 0.0939 - val_accuracy: 0.9770\n"
     ]
    },
    {
     "data": {
      "text/plain": [
       "<keras.src.callbacks.History at 0x7fd2582eb7f0>"
      ]
     },
     "execution_count": 36,
     "metadata": {},
     "output_type": "execute_result"
    }
   ],
   "source": [
    "# training over train sequences\n",
    "\n",
    "model.fit([inputs_train, queries_train], answers_train, \n",
    "          batch_size=32, \n",
    "          epochs=150,\n",
    "          validation_data=([inputs_test, queries_test], answers_test))"
   ]
  },
  {
   "cell_type": "markdown",
   "id": "a77320ae",
   "metadata": {},
   "source": [
    "# Training History"
   ]
  },
  {
   "cell_type": "code",
   "execution_count": 37,
   "id": "b05180ca",
   "metadata": {},
   "outputs": [
    {
     "data": {
      "text/plain": [
       "dict_keys(['loss', 'accuracy', 'val_loss', 'val_accuracy'])"
      ]
     },
     "execution_count": 37,
     "metadata": {},
     "output_type": "execute_result"
    }
   ],
   "source": [
    "model.history.history.keys()"
   ]
  },
  {
   "cell_type": "code",
   "execution_count": 38,
   "id": "edb86bac",
   "metadata": {},
   "outputs": [
    {
     "data": {
      "image/png": "[encoded data removed]",
      "text/plain": [
       "<Figure size 1440x432 with 2 Axes>"
      ]
     },
     "metadata": {
      "needs_background": "light"
     },
     "output_type": "display_data"
    }
   ],
   "source": [
    "fig, axes = plt.subplots(1,2, figsize=(20,6))\n",
    "axes[0].plot(model.history.history['accuracy'], label=\"Training Accuracy\")\n",
    "axes[0].plot(model.history.history['val_accuracy'], label=\"Validation Accuracy\")\n",
    "axes[0].set_title(\"Accuracy Plot\")\n",
    "axes[0].set_xlabel(\"Epochs\")\n",
    "axes[0].set_ylabel(\"Accuracy\")\n",
    "axes[0].legend()\n",
    "\n",
    "axes[1].plot(model.history.history['loss'], label=\"Training Loss\")\n",
    "axes[1].plot(model.history.history['val_loss'], label=\"Validation Loss\")\n",
    "axes[1].set_title(\"Loss Plot\")\n",
    "axes[1].set_xlabel(\"Epochs\")\n",
    "axes[1].set_ylabel(\"Loss\")\n",
    "axes[1].legend()\n",
    "\n",
    "plt.tight_layout()"
   ]
  },
  {
   "cell_type": "markdown",
   "id": "f5902341",
   "metadata": {},
   "source": [
    "# Model Evaluation"
   ]
  },
  {
   "cell_type": "code",
   "execution_count": 78,
   "id": "95d8efe6",
   "metadata": {
    "scrolled": true
   },
   "outputs": [
    {
     "name": "stdout",
     "output_type": "stream",
     "text": [
      "10\n",
      "Story:  Mary picked up the apple there . Mary dropped the apple . Daniel went back to the garden . Mary journeyed to the office . John got the football there . Mary went back to the kitchen . Daniel picked up the milk there . John travelled to the bedroom .\n",
      "Query:  Where is the football ?\n",
      "Answer:  bedroom\n",
      "Predicted Answer:  bedroom\n",
      "\n",
      "\n",
      "\n",
      "11\n",
      "Story:  Mary picked up the apple there . Mary dropped the apple . Daniel went back to the garden . Mary journeyed to the office . John got the football there . Mary went back to the kitchen . Daniel picked up the milk there . John travelled to the bedroom . John moved to the hallway . John discarded the football .\n",
      "Query:  Where is the football ?\n",
      "Answer:  hallway\n",
      "Predicted Answer:  hallway\n",
      "\n",
      "\n",
      "\n",
      "12\n",
      "Story:  Mary picked up the apple there . Mary dropped the apple . Daniel went back to the garden . Mary journeyed to the office . John got the football there . Mary went back to the kitchen . Daniel picked up the milk there . John travelled to the bedroom . John moved to the hallway . John discarded the football . Daniel dropped the milk . John got the football there .\n",
      "Query:  Where is the milk ?\n",
      "Answer:  garden\n",
      "Predicted Answer:  garden\n",
      "\n",
      "\n",
      "\n",
      "13\n",
      "Story:  Mary picked up the apple there . Mary dropped the apple . Daniel went back to the garden . Mary journeyed to the office . John got the football there . Mary went back to the kitchen . Daniel picked up the milk there . John travelled to the bedroom . John moved to the hallway . John discarded the football . Daniel dropped the milk . John got the football there . Mary journeyed to the garden . Daniel travelled to the bathroom .\n",
      "Query:  Where is the milk ?\n",
      "Answer:  garden\n",
      "Predicted Answer:  garden\n",
      "\n",
      "\n",
      "\n",
      "14\n",
      "Story:  Mary picked up the apple there . Mary dropped the apple . Daniel went back to the garden . Mary journeyed to the office . John got the football there . Mary went back to the kitchen . Daniel picked up the milk there . John travelled to the bedroom . John moved to the hallway . John discarded the football . Daniel dropped the milk . John got the football there . Mary journeyed to the garden . Daniel travelled to the bathroom . Sandra journeyed to the bathroom . Mary went to the bathroom . Mary took the apple there . Mary dropped the apple .\n",
      "Query:  Where is the apple ?\n",
      "Answer:  bathroom\n",
      "Predicted Answer:  bathroom\n",
      "\n",
      "\n",
      "\n"
     ]
    }
   ],
   "source": [
    "# predictions over the stories-query pairs from test data\n",
    "\n",
    "for i in range(10,15):\n",
    "    print(i)\n",
    "    story = test_data[i][0]\n",
    "    query = test_data[i][1]\n",
    "    answer = test_data[i][2]\n",
    "    \n",
    "    story_seq, query_seq, _ = vectorize_stories(data = [test_data[i]])\n",
    "    \n",
    "    prediction = model.predict([story_seq, query_seq], verbose=0)\n",
    "    predicted_index = np.argmax(prediction)\n",
    "    predicted_answer = tokenizer.index_word[predicted_index]\n",
    "    \n",
    "    print(\"Story: \", ' '.join(story))\n",
    "    print(\"Query: \",  ' '.join(query))\n",
    "    print(\"Answer: \",  answer)\n",
    "    print(\"Predicted Answer: \",  predicted_answer)\n",
    "    print(\"\\n\\n\")"
   ]
  },
  {
   "cell_type": "code",
   "execution_count": 79,
   "id": "9ee16afb",
   "metadata": {
    "scrolled": true
   },
   "outputs": [
    {
     "name": "stderr",
     "output_type": "stream",
     "text": [
      "/home/huda/.local/lib/python3.10/site-packages/keras/src/engine/training.py:3000: UserWarning: You are saving your model as an HDF5 file via `model.save()`. This file format is considered legacy. We recommend using instead the native Keras format, e.g. `model.save('my_model.keras')`.\n",
      "  saving_api.save_model(\n"
     ]
    }
   ],
   "source": [
    "model.save(\"MemN2N.h5\")"
   ]
  },
  {
   "cell_type": "markdown",
   "id": "4a90c70e",
   "metadata": {},
   "source": [
    "`THE END`"
   ]
  }
 ],
 "metadata": {
  "kernelspec": {
   "display_name": "Python 3 (ipykernel)",
   "language": "python",
   "name": "python3"
  },
  "language_info": {
   "codemirror_mode": {
    "name": "ipython",
    "version": 3
   },
   "file_extension": ".py",
   "mimetype": "text/x-python",
   "name": "python",
   "nbconvert_exporter": "python",
   "pygments_lexer": "ipython3",
   "version": "3.10.12"
  }
 },
 "nbformat": 4,
 "nbformat_minor": 5
}
